{
 "cells": [
  {
   "cell_type": "code",
   "execution_count": 1,
   "id": "d5d44481-cecd-4d8b-a295-dac92aa3a2c8",
   "metadata": {},
   "outputs": [],
   "source": [
    "import numpy as np"
   ]
  },
  {
   "cell_type": "code",
   "execution_count": 28,
   "id": "8251c7ad-71a8-4cd6-9346-fd08a321d62c",
   "metadata": {},
   "outputs": [],
   "source": [
    "# Load  and Save data"
   ]
  },
  {
   "cell_type": "code",
   "execution_count": 2,
   "id": "c1a923df-fdcb-49fc-97c0-ced0da7272dd",
   "metadata": {},
   "outputs": [],
   "source": [
    "a=np.array([1,2,3])\n"
   ]
  },
  {
   "cell_type": "code",
   "execution_count": 6,
   "id": "fe3b90f4-0824-48ce-94b8-e12442d57a1f",
   "metadata": {},
   "outputs": [
    {
     "name": "stdout",
     "output_type": "stream",
     "text": [
      "[1 2 3]\n"
     ]
    }
   ],
   "source": [
    "np.save('my_array.npy',a)\n",
    "print(a)"
   ]
  },
  {
   "cell_type": "code",
   "execution_count": 4,
   "id": "ba268d3f-4f8c-4b28-9e51-6807905602c0",
   "metadata": {},
   "outputs": [],
   "source": [
    "load=np.load('my_array.npy')\n"
   ]
  },
  {
   "cell_type": "code",
   "execution_count": 5,
   "id": "7aeaf3ef-7dec-4deb-8b27-1bc33a3b8161",
   "metadata": {},
   "outputs": [
    {
     "name": "stdout",
     "output_type": "stream",
     "text": [
      "[1 2 3]\n"
     ]
    }
   ],
   "source": [
    "print(load)"
   ]
  },
  {
   "cell_type": "code",
   "execution_count": 8,
   "id": "bb162e1d-e1fc-405d-a64d-4f415e5f3378",
   "metadata": {},
   "outputs": [],
   "source": [
    "b=np.array([1,2,3,4])\n",
    "np.savetxt('my_array.txt',b,delimiter=',')"
   ]
  },
  {
   "cell_type": "code",
   "execution_count": 11,
   "id": "a6958f75-2b0e-41cc-b27e-ff834beae579",
   "metadata": {},
   "outputs": [
    {
     "name": "stdout",
     "output_type": "stream",
     "text": [
      "[1. 2. 3. 4.]\n"
     ]
    }
   ],
   "source": [
    "loaded=np.loadtxt('my_array.txt',delimiter=',')\n",
    "print(loaded)"
   ]
  },
  {
   "cell_type": "code",
   "execution_count": 16,
   "id": "2a5935f8-c15e-4f9d-888d-5ea6b3251763",
   "metadata": {},
   "outputs": [
    {
     "name": "stdout",
     "output_type": "stream",
     "text": [
      "[[1. 2. 3. 4. 5. 6. 7. 8. 9. 3.]\n",
      " [2. 3. 4. 5. 6. 7. 8. 9. 1. 2.]\n",
      " [3. 4. 3. 4. 3. 4. 5. 2. 3. 4.]]\n"
     ]
    }
   ],
   "source": [
    "f=np.genfromtxt('np data.txt',delimiter=',')\n",
    "print(f)\n"
   ]
  },
  {
   "cell_type": "code",
   "execution_count": 27,
   "id": "3a204339-53a4-4ec9-9c38-9f60dd6fa0cf",
   "metadata": {},
   "outputs": [],
   "source": [
    "# Handling Csv Files with Pandas"
   ]
  },
  {
   "cell_type": "code",
   "execution_count": 17,
   "id": "4272fe5c-9099-4d5b-83f2-9b6d87154032",
   "metadata": {},
   "outputs": [],
   "source": [
    "import pandas as pd"
   ]
  },
  {
   "cell_type": "code",
   "execution_count": 21,
   "id": "547d4300-e7e8-4d9b-a95b-30185d8f0130",
   "metadata": {},
   "outputs": [],
   "source": [
    "df=pd.read_csv('annual-enterprise-survey-2023-financial-year-provisional-size-bands.csv')"
   ]
  },
  {
   "cell_type": "code",
   "execution_count": 22,
   "id": "93bc66ea-1f59-4d21-a359-4bc73ca62feb",
   "metadata": {},
   "outputs": [
    {
     "name": "stdout",
     "output_type": "stream",
     "text": [
      "       year industry_code_ANZSIC               industry_name_ANZSIC  \\\n",
      "0      2011                    A  Agriculture, Forestry and Fishing   \n",
      "1      2011                    A  Agriculture, Forestry and Fishing   \n",
      "2      2011                    A  Agriculture, Forestry and Fishing   \n",
      "3      2011                    A  Agriculture, Forestry and Fishing   \n",
      "4      2011                    A  Agriculture, Forestry and Fishing   \n",
      "...     ...                  ...                                ...   \n",
      "20119  2023                  all                     All Industries   \n",
      "20120  2023                  all                     All Industries   \n",
      "20121  2023                  all                     All Industries   \n",
      "20122  2023                  all                     All Industries   \n",
      "20123  2023                  all                     All Industries   \n",
      "\n",
      "        rme_size_grp                                         variable  \\\n",
      "0                a_0                                    Activity unit   \n",
      "1                a_0                           Rolling mean employees   \n",
      "2                a_0                          Salaries and wages paid   \n",
      "3                a_0  Sales, government funding, grants and subsidies   \n",
      "4                a_0                                     Total income   \n",
      "...              ...                                              ...   \n",
      "20119  j_Grand_Total                                     Total income   \n",
      "20120  j_Grand_Total                                Total expenditure   \n",
      "20121  j_Grand_Total                      Operating profit before tax   \n",
      "20122  j_Grand_Total                                     Total assets   \n",
      "20123  j_Grand_Total                            Fixed tangible assets   \n",
      "\n",
      "         value               unit  \n",
      "0        46134              COUNT  \n",
      "1            0              COUNT  \n",
      "2          279  DOLLARS(millions)  \n",
      "3         8187  DOLLARS(millions)  \n",
      "4         8866  DOLLARS(millions)  \n",
      "...        ...                ...  \n",
      "20119   930995  DOLLARS(millions)  \n",
      "20120   832964  DOLLARS(millions)  \n",
      "20121   103616  DOLLARS(millions)  \n",
      "20122  2831894  DOLLARS(millions)  \n",
      "20123   681890  DOLLARS(millions)  \n",
      "\n",
      "[20124 rows x 7 columns]\n"
     ]
    }
   ],
   "source": [
    "print(df)"
   ]
  },
  {
   "cell_type": "code",
   "execution_count": 23,
   "id": "4c0546b0-57cb-4d3c-b217-f8f752c97b68",
   "metadata": {},
   "outputs": [
    {
     "name": "stdout",
     "output_type": "stream",
     "text": [
      "[[2011 'A' 'Agriculture, Forestry and Fishing' ... 'Activity unit'\n",
      "  '46134' 'COUNT']\n",
      " [2011 'A' 'Agriculture, Forestry and Fishing' ...\n",
      "  'Rolling mean employees' '0' 'COUNT']\n",
      " [2011 'A' 'Agriculture, Forestry and Fishing' ...\n",
      "  'Salaries and wages paid' '279' 'DOLLARS(millions)']\n",
      " ...\n",
      " [2023 'all' 'All Industries' ... 'Operating profit before tax' '103616'\n",
      "  'DOLLARS(millions)']\n",
      " [2023 'all' 'All Industries' ... 'Total assets' '2831894'\n",
      "  'DOLLARS(millions)']\n",
      " [2023 'all' 'All Industries' ... 'Fixed tangible assets' '681890'\n",
      "  'DOLLARS(millions)']]\n"
     ]
    }
   ],
   "source": [
    "g=df.values\n",
    "print(g)"
   ]
  },
  {
   "cell_type": "code",
   "execution_count": null,
   "id": "c795109e-a3c6-4738-b227-af7332c28abd",
   "metadata": {},
   "outputs": [],
   "source": []
  },
  {
   "cell_type": "code",
   "execution_count": null,
   "id": "01fbb257-cb0b-4e66-ad8e-340d8d2596b8",
   "metadata": {},
   "outputs": [],
   "source": []
  }
 ],
 "metadata": {
  "kernelspec": {
   "display_name": "Python 3 (ipykernel)",
   "language": "python",
   "name": "python3"
  },
  "language_info": {
   "codemirror_mode": {
    "name": "ipython",
    "version": 3
   },
   "file_extension": ".py",
   "mimetype": "text/x-python",
   "name": "python",
   "nbconvert_exporter": "python",
   "pygments_lexer": "ipython3",
   "version": "3.11.7"
  }
 },
 "nbformat": 4,
 "nbformat_minor": 5
}
