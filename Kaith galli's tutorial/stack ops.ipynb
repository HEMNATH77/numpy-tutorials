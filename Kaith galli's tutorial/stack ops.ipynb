{
  "nbformat": 4,
  "nbformat_minor": 0,
  "metadata": {
    "colab": {
      "provenance": []
    },
    "kernelspec": {
      "name": "python3",
      "display_name": "Python 3"
    },
    "language_info": {
      "name": "python"
    }
  },
  "cells": [
    {
      "cell_type": "markdown",
      "source": [
        "Reorganizing Arrays"
      ],
      "metadata": {
        "id": "T3GCDDW5XoCK"
      }
    },
    {
      "cell_type": "code",
      "source": [
        "import numpy as np"
      ],
      "metadata": {
        "id": "HXF6U8G0aEi9"
      },
      "execution_count": 2,
      "outputs": []
    },
    {
      "cell_type": "code",
      "execution_count": 7,
      "metadata": {
        "colab": {
          "base_uri": "https://localhost:8080/"
        },
        "id": "iem_MOl3XnLs",
        "outputId": "ac1e5421-ba72-4fc2-f1a9-e4ec11a9a29b"
      },
      "outputs": [
        {
          "output_type": "stream",
          "name": "stdout",
          "text": [
            "[[ 1  2  3  4  5]\n",
            " [ 6  7  8  9 10]]\n",
            "[[ 1  2]\n",
            " [ 3  4]\n",
            " [ 5  6]\n",
            " [ 7  8]\n",
            " [ 9 10]]\n"
          ]
        }
      ],
      "source": [
        "a=np.array(([1,2,3,4,5],[6,7,8,9,10]))\n",
        "print(a)\n",
        "\n",
        "b=a.reshape((5,2))\n",
        "print(b)"
      ]
    },
    {
      "cell_type": "markdown",
      "source": [
        "Vertical Stacking vectors\n",
        "\n"
      ],
      "metadata": {
        "id": "gRqCCKbgae1B"
      }
    },
    {
      "cell_type": "code",
      "source": [
        "a=np.array([1,2,3,4])\n",
        "b=np.array([5,6,7,8])\n",
        "\n",
        "np.vstack(([a,b]))"
      ],
      "metadata": {
        "colab": {
          "base_uri": "https://localhost:8080/"
        },
        "id": "HRUnjMw7aDQZ",
        "outputId": "65b38911-2b77-4117-b935-6b2cc5bb15a4"
      },
      "execution_count": 12,
      "outputs": [
        {
          "output_type": "execute_result",
          "data": {
            "text/plain": [
              "array([[1, 2, 3, 4],\n",
              "       [5, 6, 7, 8]])"
            ]
          },
          "metadata": {},
          "execution_count": 12
        }
      ]
    },
    {
      "cell_type": "markdown",
      "source": [
        "Horizontal Stack"
      ],
      "metadata": {
        "id": "-bYD6Hf6bW7w"
      }
    },
    {
      "cell_type": "code",
      "source": [
        "np.hstack((a,b))"
      ],
      "metadata": {
        "colab": {
          "base_uri": "https://localhost:8080/"
        },
        "id": "EImL3BVtZ7MZ",
        "outputId": "583c19ee-b42c-46f9-bc4d-c4b2218408f8"
      },
      "execution_count": 13,
      "outputs": [
        {
          "output_type": "execute_result",
          "data": {
            "text/plain": [
              "array([1, 2, 3, 4, 5, 6, 7, 8])"
            ]
          },
          "metadata": {},
          "execution_count": 13
        }
      ]
    },
    {
      "cell_type": "code",
      "source": [],
      "metadata": {
        "id": "hYY9D7qaflk7"
      },
      "execution_count": null,
      "outputs": []
    }
  ]
}