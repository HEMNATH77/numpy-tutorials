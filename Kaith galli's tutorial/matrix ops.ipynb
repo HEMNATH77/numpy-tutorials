{
  "nbformat": 4,
  "nbformat_minor": 0,
  "metadata": {
    "colab": {
      "provenance": []
    },
    "kernelspec": {
      "name": "python3",
      "display_name": "Python 3"
    },
    "language_info": {
      "name": "python"
    }
  },
  "cells": [
    {
      "cell_type": "markdown",
      "source": [
        "Identity Matrix"
      ],
      "metadata": {
        "id": "NOOt-dsRJaG7"
      }
    },
    {
      "cell_type": "code",
      "source": [
        "import numpy as np"
      ],
      "metadata": {
        "id": "mKxQtzY2Jikz"
      },
      "execution_count": 1,
      "outputs": []
    },
    {
      "cell_type": "code",
      "source": [
        "np.identity(3)"
      ],
      "metadata": {
        "colab": {
          "base_uri": "https://localhost:8080/"
        },
        "id": "aVqto1OHJtYJ",
        "outputId": "44422ca4-e754-4937-aa46-ceacb38b4c70"
      },
      "execution_count": 2,
      "outputs": [
        {
          "output_type": "execute_result",
          "data": {
            "text/plain": [
              "array([[1., 0., 0.],\n",
              "       [0., 1., 0.],\n",
              "       [0., 0., 1.]])"
            ]
          },
          "metadata": {},
          "execution_count": 2
        }
      ]
    },
    {
      "cell_type": "markdown",
      "source": [
        "Repeat an array\n",
        "\n",
        "np.repeat(array,size,axis=0(or)1)"
      ],
      "metadata": {
        "id": "awE2sQKmKmns"
      }
    },
    {
      "cell_type": "code",
      "source": [
        "a=np.array([1,2,3])"
      ],
      "metadata": {
        "id": "H36pX7ZJJwkx"
      },
      "execution_count": 4,
      "outputs": []
    },
    {
      "cell_type": "code",
      "source": [
        "b1=np.repeat(a,3)\n",
        "print(b1)"
      ],
      "metadata": {
        "colab": {
          "base_uri": "https://localhost:8080/"
        },
        "id": "vXNwa_JhLMJ_",
        "outputId": "58d4907c-fccb-431a-d7be-a692733f26a1"
      },
      "execution_count": 15,
      "outputs": [
        {
          "output_type": "stream",
          "name": "stdout",
          "text": [
            "[1 1 1 2 2 2 3 3 3 4 4 4]\n"
          ]
        }
      ]
    },
    {
      "cell_type": "code",
      "source": [
        "a=np.array([[1,2,3]])\n",
        "b1=np.repeat(a,3,axis=0)\n",
        "print(b1)"
      ],
      "metadata": {
        "colab": {
          "base_uri": "https://localhost:8080/"
        },
        "id": "OBcW1lE3Lc7y",
        "outputId": "3651d9c1-be19-41f0-b25e-e571ac644027"
      },
      "execution_count": 17,
      "outputs": [
        {
          "output_type": "stream",
          "name": "stdout",
          "text": [
            "[[1 2 3]\n",
            " [1 2 3]\n",
            " [1 2 3]]\n"
          ]
        }
      ]
    },
    {
      "cell_type": "markdown",
      "source": [
        "Copying Array\n"
      ],
      "metadata": {
        "id": "9LjS8dH-PSmn"
      }
    },
    {
      "cell_type": "code",
      "source": [
        "a=np.array([1,2,3,4,5])\n",
        "b=a\n",
        "print(b)"
      ],
      "metadata": {
        "colab": {
          "base_uri": "https://localhost:8080/"
        },
        "id": "Uw5k88ybMGAK",
        "outputId": "6ce2f563-1505-4d3d-ba96-016651cd75e1"
      },
      "execution_count": 25,
      "outputs": [
        {
          "output_type": "stream",
          "name": "stdout",
          "text": [
            "[1 2 3 4 5]\n"
          ]
        }
      ]
    },
    {
      "cell_type": "code",
      "source": [
        "b[1]=100\n",
        "print(b)"
      ],
      "metadata": {
        "colab": {
          "base_uri": "https://localhost:8080/"
        },
        "id": "Z-GPcAYdPdmc",
        "outputId": "362d93e6-b6b0-428e-d404-28f0567d56e7"
      },
      "execution_count": 22,
      "outputs": [
        {
          "output_type": "stream",
          "name": "stdout",
          "text": [
            "[  1 100   3   4   5]\n"
          ]
        }
      ]
    },
    {
      "cell_type": "code",
      "source": [
        "print(a)"
      ],
      "metadata": {
        "colab": {
          "base_uri": "https://localhost:8080/"
        },
        "id": "NjzK626jP1GC",
        "outputId": "610b8cb8-bc92-4dc6-fc91-25531db2d804"
      },
      "execution_count": 23,
      "outputs": [
        {
          "output_type": "stream",
          "name": "stdout",
          "text": [
            "[  1 100   3   4   5]\n"
          ]
        }
      ]
    },
    {
      "cell_type": "code",
      "source": [
        "c=([5,6,7,8])\n",
        "d=a.copy()\n",
        "print(d)"
      ],
      "metadata": {
        "colab": {
          "base_uri": "https://localhost:8080/"
        },
        "id": "dbUSVKqDP9Al",
        "outputId": "7cbc71d4-ce68-44a1-b8b7-a255612c55bc"
      },
      "execution_count": 28,
      "outputs": [
        {
          "output_type": "stream",
          "name": "stdout",
          "text": [
            "[1 2 3 4 5]\n"
          ]
        }
      ]
    },
    {
      "cell_type": "markdown",
      "source": [
        "Mathematics"
      ],
      "metadata": {
        "id": "ums-JKeZR-ZP"
      }
    },
    {
      "cell_type": "code",
      "source": [
        "a=np.array([1,2,3,4,5])\n",
        "print(a)"
      ],
      "metadata": {
        "colab": {
          "base_uri": "https://localhost:8080/"
        },
        "id": "ZP0ggzc9QQBb",
        "outputId": "b93734b7-f5ec-4e71-fdd8-a0426c3367e3"
      },
      "execution_count": 30,
      "outputs": [
        {
          "output_type": "stream",
          "name": "stdout",
          "text": [
            "[1 2 3 4 5]\n"
          ]
        }
      ]
    },
    {
      "cell_type": "code",
      "source": [
        "a+3"
      ],
      "metadata": {
        "colab": {
          "base_uri": "https://localhost:8080/"
        },
        "id": "3EkAQZLTSFyN",
        "outputId": "d1ab8fa5-0354-4ed8-c8fd-effb6df37f88"
      },
      "execution_count": 31,
      "outputs": [
        {
          "output_type": "execute_result",
          "data": {
            "text/plain": [
              "array([4, 5, 6, 7, 8])"
            ]
          },
          "metadata": {},
          "execution_count": 31
        }
      ]
    },
    {
      "cell_type": "code",
      "source": [
        "a-3"
      ],
      "metadata": {
        "colab": {
          "base_uri": "https://localhost:8080/"
        },
        "id": "RO_PgL6hSQvj",
        "outputId": "3c2c6b5d-6b38-4a47-dc6a-e583214c6b4e"
      },
      "execution_count": 32,
      "outputs": [
        {
          "output_type": "execute_result",
          "data": {
            "text/plain": [
              "array([-2, -1,  0,  1,  2])"
            ]
          },
          "metadata": {},
          "execution_count": 32
        }
      ]
    },
    {
      "cell_type": "code",
      "source": [
        "a*2"
      ],
      "metadata": {
        "colab": {
          "base_uri": "https://localhost:8080/"
        },
        "id": "1DMsRMcHSS8c",
        "outputId": "817666ba-bbec-4239-acab-70bd99f8c69b"
      },
      "execution_count": 33,
      "outputs": [
        {
          "output_type": "execute_result",
          "data": {
            "text/plain": [
              "array([ 2,  4,  6,  8, 10])"
            ]
          },
          "metadata": {},
          "execution_count": 33
        }
      ]
    },
    {
      "cell_type": "code",
      "source": [
        "a/2"
      ],
      "metadata": {
        "colab": {
          "base_uri": "https://localhost:8080/"
        },
        "id": "JcI6dpYpSXu1",
        "outputId": "a786d357-7744-4b13-af90-dfe5b80294fd"
      },
      "execution_count": 34,
      "outputs": [
        {
          "output_type": "execute_result",
          "data": {
            "text/plain": [
              "array([0.5, 1. , 1.5, 2. , 2.5])"
            ]
          },
          "metadata": {},
          "execution_count": 34
        }
      ]
    },
    {
      "cell_type": "code",
      "source": [
        "b=np.array([6,7,8,9,7])\n",
        "a+b"
      ],
      "metadata": {
        "colab": {
          "base_uri": "https://localhost:8080/"
        },
        "id": "oukNKCOzSaNP",
        "outputId": "a514c475-37a9-49b3-eaf3-165ce2a33689"
      },
      "execution_count": 35,
      "outputs": [
        {
          "output_type": "execute_result",
          "data": {
            "text/plain": [
              "array([ 7,  9, 11, 13, 12])"
            ]
          },
          "metadata": {},
          "execution_count": 35
        }
      ]
    },
    {
      "cell_type": "code",
      "source": [
        "b ** 2"
      ],
      "metadata": {
        "colab": {
          "base_uri": "https://localhost:8080/"
        },
        "id": "mVhbrV8sSpcw",
        "outputId": "5f306dd2-6a64-45cd-ea89-758c2fcf7968"
      },
      "execution_count": 37,
      "outputs": [
        {
          "output_type": "execute_result",
          "data": {
            "text/plain": [
              "array([36, 49, 64, 81, 49])"
            ]
          },
          "metadata": {},
          "execution_count": 37
        }
      ]
    },
    {
      "cell_type": "markdown",
      "source": [
        "Trignomentry"
      ],
      "metadata": {
        "id": "gE6e-tFIS8G8"
      }
    },
    {
      "cell_type": "code",
      "source": [
        "np.sin(a)"
      ],
      "metadata": {
        "colab": {
          "base_uri": "https://localhost:8080/"
        },
        "id": "cWJQ7txCSw40",
        "outputId": "2669dd19-5269-4dd1-a893-c84a26af5b14"
      },
      "execution_count": 38,
      "outputs": [
        {
          "output_type": "execute_result",
          "data": {
            "text/plain": [
              "array([ 0.84147098,  0.90929743,  0.14112001, -0.7568025 , -0.95892427])"
            ]
          },
          "metadata": {},
          "execution_count": 38
        }
      ]
    },
    {
      "cell_type": "code",
      "source": [
        "np.cos(b)"
      ],
      "metadata": {
        "colab": {
          "base_uri": "https://localhost:8080/"
        },
        "id": "XqUTbSFATBs6",
        "outputId": "122373fd-ab72-4b56-b1fc-610b38642ed6"
      },
      "execution_count": 39,
      "outputs": [
        {
          "output_type": "execute_result",
          "data": {
            "text/plain": [
              "array([ 0.96017029,  0.75390225, -0.14550003, -0.91113026,  0.75390225])"
            ]
          },
          "metadata": {},
          "execution_count": 39
        }
      ]
    },
    {
      "cell_type": "code",
      "source": [
        "np.tan(a)"
      ],
      "metadata": {
        "colab": {
          "base_uri": "https://localhost:8080/"
        },
        "id": "XjPmSewgTEcO",
        "outputId": "21e8d951-f235-44f6-bd3d-df83cd599f0d"
      },
      "execution_count": 41,
      "outputs": [
        {
          "output_type": "execute_result",
          "data": {
            "text/plain": [
              "array([ 1.55740772, -2.18503986, -0.14254654,  1.15782128, -3.38051501])"
            ]
          },
          "metadata": {},
          "execution_count": 41
        }
      ]
    },
    {
      "cell_type": "markdown",
      "source": [
        "Linear Algebra"
      ],
      "metadata": {
        "id": "0c-DP3owTPxw"
      }
    },
    {
      "cell_type": "code",
      "source": [
        "a=np.array([1,2,3],dtype=\"int32\")\n",
        "print(a)"
      ],
      "metadata": {
        "colab": {
          "base_uri": "https://localhost:8080/"
        },
        "id": "5GESv-EmTMSh",
        "outputId": "90978946-076f-47b0-c617-6ffb937c3b77"
      },
      "execution_count": 43,
      "outputs": [
        {
          "output_type": "stream",
          "name": "stdout",
          "text": [
            "[1 2 3]\n"
          ]
        }
      ]
    },
    {
      "cell_type": "code",
      "source": [
        "a=np.ones((2,3),dtype=\"int32\")\n",
        "print(a)"
      ],
      "metadata": {
        "colab": {
          "base_uri": "https://localhost:8080/"
        },
        "id": "NgviIR2yT_6x",
        "outputId": "98853380-cc60-4b38-bae8-fae25334a6c1"
      },
      "execution_count": 46,
      "outputs": [
        {
          "output_type": "stream",
          "name": "stdout",
          "text": [
            "[[1 1 1]\n",
            " [1 1 1]]\n"
          ]
        }
      ]
    },
    {
      "cell_type": "code",
      "source": [
        "b=np.full((3,2),2)\n",
        "print(b)"
      ],
      "metadata": {
        "colab": {
          "base_uri": "https://localhost:8080/"
        },
        "id": "oCArf0fKUIEM",
        "outputId": "fe706dd4-cbfc-4a05-aa95-be8e3e7a356d"
      },
      "execution_count": 48,
      "outputs": [
        {
          "output_type": "stream",
          "name": "stdout",
          "text": [
            "[[2 2]\n",
            " [2 2]\n",
            " [2 2]]\n"
          ]
        }
      ]
    },
    {
      "cell_type": "code",
      "source": [
        "np.matmul(a,b)"
      ],
      "metadata": {
        "colab": {
          "base_uri": "https://localhost:8080/"
        },
        "id": "9Db5mRhcUTrd",
        "outputId": "b01b3cde-b18e-47d6-e858-ce135eafb7a5"
      },
      "execution_count": 49,
      "outputs": [
        {
          "output_type": "execute_result",
          "data": {
            "text/plain": [
              "array([[6, 6],\n",
              "       [6, 6]])"
            ]
          },
          "metadata": {},
          "execution_count": 49
        }
      ]
    },
    {
      "cell_type": "markdown",
      "source": [
        "To find determinant"
      ],
      "metadata": {
        "id": "yqj3X_EPVjKl"
      }
    },
    {
      "cell_type": "code",
      "source": [
        "a=np.identity(2)\n",
        "np.linalg.det(a)"
      ],
      "metadata": {
        "colab": {
          "base_uri": "https://localhost:8080/"
        },
        "id": "HEq8Bo-mVrSi",
        "outputId": "ca836e30-753f-42ce-d414-cc6b67d30a14"
      },
      "execution_count": 50,
      "outputs": [
        {
          "output_type": "execute_result",
          "data": {
            "text/plain": [
              "1.0"
            ]
          },
          "metadata": {},
          "execution_count": 50
        }
      ]
    },
    {
      "cell_type": "markdown",
      "source": [
        "Statistics\n"
      ],
      "metadata": {
        "id": "s16qLwvfV6jn"
      }
    },
    {
      "cell_type": "code",
      "source": [
        "stats=np.array([1,2,3,4,5])\n",
        "print(stats)"
      ],
      "metadata": {
        "colab": {
          "base_uri": "https://localhost:8080/"
        },
        "id": "TaUVktcCUdYk",
        "outputId": "8ea16ac7-5822-4ed1-890e-2dba2f9fe2c0"
      },
      "execution_count": 51,
      "outputs": [
        {
          "output_type": "stream",
          "name": "stdout",
          "text": [
            "[1 2 3 4 5]\n"
          ]
        }
      ]
    },
    {
      "cell_type": "code",
      "source": [
        "np.min(stats,axis=0)"
      ],
      "metadata": {
        "colab": {
          "base_uri": "https://localhost:8080/"
        },
        "id": "SECvO4iwWHqu",
        "outputId": "a9c89efc-5b22-4973-c451-37c3caf83c3c"
      },
      "execution_count": 55,
      "outputs": [
        {
          "output_type": "execute_result",
          "data": {
            "text/plain": [
              "1"
            ]
          },
          "metadata": {},
          "execution_count": 55
        }
      ]
    },
    {
      "cell_type": "code",
      "source": [
        "np.max(stats,axis=0)"
      ],
      "metadata": {
        "colab": {
          "base_uri": "https://localhost:8080/"
        },
        "id": "3d80OIObWNJS",
        "outputId": "c33e7313-8826-4fbe-e89b-6c1f6cdc3b36"
      },
      "execution_count": 57,
      "outputs": [
        {
          "output_type": "execute_result",
          "data": {
            "text/plain": [
              "5"
            ]
          },
          "metadata": {},
          "execution_count": 57
        }
      ]
    },
    {
      "cell_type": "code",
      "source": [
        "b=np.array([[1,2,3],[4,5,6]])\n",
        "b\n",
        ""
      ],
      "metadata": {
        "colab": {
          "base_uri": "https://localhost:8080/"
        },
        "id": "EBnYKK9IWSJY",
        "outputId": "53298757-358f-48b9-9576-d4103dc0a3a4"
      },
      "execution_count": 61,
      "outputs": [
        {
          "output_type": "execute_result",
          "data": {
            "text/plain": [
              "array([[1, 2, 3],\n",
              "       [4, 5, 6]])"
            ]
          },
          "metadata": {},
          "execution_count": 61
        }
      ]
    },
    {
      "cell_type": "code",
      "source": [
        "np.max(b,axis=1)"
      ],
      "metadata": {
        "colab": {
          "base_uri": "https://localhost:8080/"
        },
        "id": "qz1D2TTbWwls",
        "outputId": "dae47108-d0e4-4c69-c898-33364bf267f8"
      },
      "execution_count": 62,
      "outputs": [
        {
          "output_type": "execute_result",
          "data": {
            "text/plain": [
              "array([3, 6])"
            ]
          },
          "metadata": {},
          "execution_count": 62
        }
      ]
    },
    {
      "cell_type": "code",
      "source": [
        "np.sum(b,axis=0)"
      ],
      "metadata": {
        "colab": {
          "base_uri": "https://localhost:8080/"
        },
        "id": "LYSwd-ywW6oK",
        "outputId": "5b0b77ff-bf67-4a89-f3ab-394e1c63b07e"
      },
      "execution_count": 63,
      "outputs": [
        {
          "output_type": "execute_result",
          "data": {
            "text/plain": [
              "array([5, 7, 9])"
            ]
          },
          "metadata": {},
          "execution_count": 63
        }
      ]
    },
    {
      "cell_type": "code",
      "source": [],
      "metadata": {
        "id": "08tGgeyvXPy3"
      },
      "execution_count": null,
      "outputs": []
    }
  ]
}