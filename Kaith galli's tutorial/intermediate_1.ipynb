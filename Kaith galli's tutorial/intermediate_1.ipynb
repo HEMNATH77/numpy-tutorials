{
  "nbformat": 4,
  "nbformat_minor": 0,
  "metadata": {
    "colab": {
      "provenance": []
    },
    "kernelspec": {
      "name": "python3",
      "display_name": "Python 3"
    },
    "language_info": {
      "name": "python"
    }
  },
  "cells": [
    {
      "cell_type": "markdown",
      "source": [
        "3D examples"
      ],
      "metadata": {
        "id": "_BPHgfCEZufH"
      }
    },
    {
      "cell_type": "code",
      "source": [
        "import numpy as np"
      ],
      "metadata": {
        "id": "DR4CuW6Qasa3"
      },
      "execution_count": null,
      "outputs": []
    },
    {
      "cell_type": "code",
      "source": [
        "a=np.array([[[1,2],[3,4],[5,6],[7,8]]])\n",
        "print(a)"
      ],
      "metadata": {
        "colab": {
          "base_uri": "https://localhost:8080/"
        },
        "id": "AHhn6C6eaHCj",
        "outputId": "474cfa8e-39e2-4bcb-8ef9-8cb9cd3bbdd7"
      },
      "execution_count": null,
      "outputs": [
        {
          "output_type": "stream",
          "name": "stdout",
          "text": [
            "[[[1 2]\n",
            "  [3 4]\n",
            "  [5 6]\n",
            "  [7 8]]]\n"
          ]
        }
      ]
    },
    {
      "cell_type": "markdown",
      "source": [
        "Get a specific element (0,row,column)"
      ],
      "metadata": {
        "id": "I11XW3gNazB7"
      }
    },
    {
      "cell_type": "code",
      "source": [
        "a[:,1,0]\n"
      ],
      "metadata": {
        "colab": {
          "base_uri": "https://localhost:8080/"
        },
        "id": "Ys6_XkKfaLa-",
        "outputId": "f8813ea8-0097-4fa0-d650-ac81eacd065a"
      },
      "execution_count": null,
      "outputs": [
        {
          "output_type": "execute_result",
          "data": {
            "text/plain": [
              "array([3])"
            ]
          },
          "metadata": {},
          "execution_count": 12
        }
      ]
    },
    {
      "cell_type": "markdown",
      "source": [
        "Replace a element"
      ],
      "metadata": {
        "id": "13bc7W75cFBV"
      }
    },
    {
      "cell_type": "code",
      "source": [
        "a[:,1,:]"
      ],
      "metadata": {
        "colab": {
          "base_uri": "https://localhost:8080/"
        },
        "id": "K6LlVgqma_Rc",
        "outputId": "064e2f7f-5f8c-4493-b64c-4595f9cf19c8"
      },
      "execution_count": null,
      "outputs": [
        {
          "output_type": "execute_result",
          "data": {
            "text/plain": [
              "array([[3, 4]])"
            ]
          },
          "metadata": {},
          "execution_count": 20
        }
      ]
    },
    {
      "cell_type": "code",
      "source": [
        "a[:,1,:]=[[9,9]]\n",
        "print(a)"
      ],
      "metadata": {
        "colab": {
          "base_uri": "https://localhost:8080/"
        },
        "id": "YgtlRp9rcO90",
        "outputId": "a1ddb380-1bf4-48b1-9240-4ec81abcb647"
      },
      "execution_count": null,
      "outputs": [
        {
          "output_type": "stream",
          "name": "stdout",
          "text": [
            "[[[1 2]\n",
            "  [9 9]\n",
            "  [5 6]\n",
            "  [7 8]]]\n"
          ]
        }
      ]
    },
    {
      "cell_type": "markdown",
      "source": [
        "Initializing different types of array"
      ],
      "metadata": {
        "id": "8LgbH2twgaLk"
      }
    },
    {
      "cell_type": "markdown",
      "source": [
        "0's matrix (shape,dimension)"
      ],
      "metadata": {
        "id": "BPHCZkTlg8E4"
      }
    },
    {
      "cell_type": "code",
      "source": [
        "np.zeros([2,2],dtype=\"int32\")"
      ],
      "metadata": {
        "colab": {
          "base_uri": "https://localhost:8080/"
        },
        "id": "XVnqEggUhA3O",
        "outputId": "c04ce581-79b2-4e32-9eee-f6f5243c19d2"
      },
      "execution_count": null,
      "outputs": [
        {
          "output_type": "execute_result",
          "data": {
            "text/plain": [
              "array([[0, 0],\n",
              "       [0, 0]], dtype=int32)"
            ]
          },
          "metadata": {},
          "execution_count": 41
        }
      ]
    },
    {
      "cell_type": "markdown",
      "source": [
        "1's matrix (shape,dimensions)"
      ],
      "metadata": {
        "id": "DqZfTHzYiXag"
      }
    },
    {
      "cell_type": "code",
      "source": [
        "np.ones([2,3],dtype=\"int32\")"
      ],
      "metadata": {
        "colab": {
          "base_uri": "https://localhost:8080/"
        },
        "id": "XFMXBKvshM-g",
        "outputId": "774b07b2-1ced-4a77-d3fd-ae94bcd23a81"
      },
      "execution_count": null,
      "outputs": [
        {
          "output_type": "execute_result",
          "data": {
            "text/plain": [
              "array([[1, 1, 1],\n",
              "       [1, 1, 1]], dtype=int32)"
            ]
          },
          "metadata": {},
          "execution_count": 44
        }
      ]
    },
    {
      "cell_type": "markdown",
      "source": [
        "for any other number(shape(dimension),value)"
      ],
      "metadata": {
        "id": "XeOAc-3pip8T"
      }
    },
    {
      "cell_type": "code",
      "source": [
        "np.full([2,3],12)"
      ],
      "metadata": {
        "colab": {
          "base_uri": "https://localhost:8080/"
        },
        "id": "ODwQA5dTita-",
        "outputId": "ae5dae51-b46a-45c5-f91e-6cefc5c6129a"
      },
      "execution_count": null,
      "outputs": [
        {
          "output_type": "execute_result",
          "data": {
            "text/plain": [
              "array([[12, 12, 12],\n",
              "       [12, 12, 12]])"
            ]
          },
          "metadata": {},
          "execution_count": 45
        }
      ]
    },
    {
      "cell_type": "code",
      "source": [
        "import numpy as np"
      ],
      "metadata": {
        "id": "6EJOO_reiheo"
      },
      "execution_count": 3,
      "outputs": []
    },
    {
      "cell_type": "code",
      "source": [
        "a=([1,2,3,4,5])"
      ],
      "metadata": {
        "id": "AKZ5jhjbA5U3"
      },
      "execution_count": 4,
      "outputs": []
    },
    {
      "cell_type": "code",
      "source": [
        "np.full_like(a,4)"
      ],
      "metadata": {
        "colab": {
          "base_uri": "https://localhost:8080/"
        },
        "id": "EuzNkHloBM02",
        "outputId": "4702106a-3cca-4d8b-b5c9-5dffa5ddc71c"
      },
      "execution_count": 5,
      "outputs": [
        {
          "output_type": "execute_result",
          "data": {
            "text/plain": [
              "array([4, 4, 4, 4, 4])"
            ]
          },
          "metadata": {},
          "execution_count": 5
        }
      ]
    },
    {
      "cell_type": "markdown",
      "source": [
        "Random decimal numbers   \n",
        "np.random.rand(rows,columns)"
      ],
      "metadata": {
        "id": "_K55MN2GBd1v"
      }
    },
    {
      "cell_type": "code",
      "source": [
        "np.random.rand(4,2)"
      ],
      "metadata": {
        "colab": {
          "base_uri": "https://localhost:8080/"
        },
        "id": "WuYdLnhPBRjE",
        "outputId": "1686b7ec-1403-49b7-f238-0d5c8648644e"
      },
      "execution_count": 6,
      "outputs": [
        {
          "output_type": "execute_result",
          "data": {
            "text/plain": [
              "array([[0.42251415, 0.99589513],\n",
              "       [0.62360385, 0.76259472],\n",
              "       [0.75259338, 0.0982968 ],\n",
              "       [0.14885346, 0.95286212]])"
            ]
          },
          "metadata": {},
          "execution_count": 6
        }
      ]
    },
    {
      "cell_type": "markdown",
      "source": [
        "Random integer values\n",
        "\n",
        "\n",
        "np.random.randint(start_value)\n",
        "       \n",
        "\n",
        "np.random.randint(start_value,size(dimension))       "
      ],
      "metadata": {
        "id": "PxYennfGHO0O"
      }
    },
    {
      "cell_type": "code",
      "source": [
        "np.random.randint(3)"
      ],
      "metadata": {
        "colab": {
          "base_uri": "https://localhost:8080/"
        },
        "id": "mH71KiTsChFk",
        "outputId": "6794f157-3784-459f-8351-dbd8a9b6f8af"
      },
      "execution_count": 18,
      "outputs": [
        {
          "output_type": "execute_result",
          "data": {
            "text/plain": [
              "2"
            ]
          },
          "metadata": {},
          "execution_count": 18
        }
      ]
    },
    {
      "cell_type": "code",
      "source": [
        "np.random.randint(3,size=(2,3))"
      ],
      "metadata": {
        "colab": {
          "base_uri": "https://localhost:8080/"
        },
        "id": "ob4OB2-eIGcb",
        "outputId": "ceba0c37-b02b-48b5-ff78-9f9f074c8254"
      },
      "execution_count": 20,
      "outputs": [
        {
          "output_type": "execute_result",
          "data": {
            "text/plain": [
              "array([[0, 1, 1],\n",
              "       [0, 2, 1]])"
            ]
          },
          "metadata": {},
          "execution_count": 20
        }
      ]
    },
    {
      "cell_type": "code",
      "source": [],
      "metadata": {
        "id": "yKlb8_P4IR5b"
      },
      "execution_count": 20,
      "outputs": []
    }
  ]
}